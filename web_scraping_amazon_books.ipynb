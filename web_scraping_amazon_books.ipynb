{
 "cells": [
  {
   "cell_type": "code",
   "execution_count": 5,
   "metadata": {},
   "outputs": [],
   "source": [
    "from bs4 import BeautifulSoup as bs\n",
    "from urllib.request import urlopen\n",
    "import re\n",
    "import pandas as pd"
   ]
  },
  {
   "cell_type": "code",
   "execution_count": 6,
   "metadata": {},
   "outputs": [],
   "source": [
    "# Scrapping Data and Save \n",
    "def scraper_functions(urls):         \n",
    "    page = urlopen(urls)\n",
    "    soup = bs(page,'html.parser')\n",
    "    books = soup.findAll('div',attrs={'class':'a-column a-span12 a-text-center _cDEzb_grid-column_2hIsc'})           \n",
    "    bestsellers = []\n",
    "    price_regex = r'\\d+[\\.,]?\\d*'\n",
    "    for book in books:\n",
    "        try:\n",
    "            rang = book.find('div', attrs={'class': 'a-section zg-bdg-body zg-bdg-clr-body aok-float-left'}).span.text.replace('#', '')\n",
    "            auteur = book.find('div', attrs={'class': 'a-row a-size-small'}).text\n",
    "            titre = book.find('div', attrs={'class': '_cDEzb_p13n-sc-css-line-clamp-1_1Fn1y'}).text\n",
    "            format = book.find('span', attrs={'class': 'a-size-small a-color-secondary a-text-normal'}).text\n",
    "            divs = book.find_all('div', class_='a-row')\n",
    "            price_div = divs[3].find('span', class_='p13n-sc-price')\n",
    "            price_match = re.search(price_regex, price_div.text)\n",
    "            price = price_match.group()\n",
    "            bestsellers.append({'Auteur': auteur,'titre':titre, 'rang': rang, 'format': format, 'price': price})  \n",
    "        except:\n",
    "            pass        \n",
    "        \n",
    "    df = pd.DataFrame(bestsellers)\n",
    "    df.to_csv('books.csv', mode='a', header=True, index=False)\n"
   ]
  },
  {
   "cell_type": "code",
   "execution_count": 7,
   "metadata": {},
   "outputs": [],
   "source": [
    "# retrieve urls \n",
    "def get_all_pages():\n",
    "    urls = []  \n",
    "    page_number =1\n",
    "    for i in range(2):\n",
    "        i = f\"https://www.amazon.fr/gp/bestsellers/books/301132/ref=zg_bs_pg_{page_number}?ie=UTF8&pg={page_number}\"\n",
    "        page_number+=1\n",
    "        urls.append(i)\n",
    "    return urls"
   ]
  },
  {
   "cell_type": "code",
   "execution_count": 8,
   "metadata": {},
   "outputs": [],
   "source": [
    "# Scrapping all pages \n",
    "def scraping_all_page():\n",
    "    pages =  get_all_pages()\n",
    "    for page in pages:\n",
    "        scraper_functions(urls=page)\n",
    "        print(f\"On scrape {page}\")"
   ]
  },
  {
   "cell_type": "code",
   "execution_count": 10,
   "metadata": {},
   "outputs": [
    {
     "data": {
      "text/html": [
       "<div>\n",
       "<style scoped>\n",
       "    .dataframe tbody tr th:only-of-type {\n",
       "        vertical-align: middle;\n",
       "    }\n",
       "\n",
       "    .dataframe tbody tr th {\n",
       "        vertical-align: top;\n",
       "    }\n",
       "\n",
       "    .dataframe thead th {\n",
       "        text-align: right;\n",
       "    }\n",
       "</style>\n",
       "<table border=\"1\" class=\"dataframe\">\n",
       "  <thead>\n",
       "    <tr style=\"text-align: right;\">\n",
       "      <th></th>\n",
       "      <th>Auteur</th>\n",
       "      <th>titre</th>\n",
       "      <th>rang</th>\n",
       "      <th>format</th>\n",
       "      <th>price</th>\n",
       "    </tr>\n",
       "  </thead>\n",
       "  <tbody>\n",
       "    <tr>\n",
       "      <th>0</th>\n",
       "      <td>Lisa Kleypas</td>\n",
       "      <td>Les Hathaway (Tomes 1 &amp; 2)</td>\n",
       "      <td>1</td>\n",
       "      <td>Format Kindle</td>\n",
       "      <td>3,49</td>\n",
       "    </tr>\n",
       "    <tr>\n",
       "      <th>1</th>\n",
       "      <td>Guillaume Musso</td>\n",
       "      <td>Et Après...</td>\n",
       "      <td>2</td>\n",
       "      <td>Format Kindle</td>\n",
       "      <td>7,99</td>\n",
       "    </tr>\n",
       "    <tr>\n",
       "      <th>2</th>\n",
       "      <td>Mélissa Da Costa</td>\n",
       "      <td>Tout le bleu du ciel</td>\n",
       "      <td>3</td>\n",
       "      <td>Poche</td>\n",
       "      <td>5,59</td>\n",
       "    </tr>\n",
       "    <tr>\n",
       "      <th>3</th>\n",
       "      <td>Maud Ankaoua</td>\n",
       "      <td>Kilomètre zéro : Le chemin du bonheur</td>\n",
       "      <td>4</td>\n",
       "      <td>Poche</td>\n",
       "      <td>3,91</td>\n",
       "    </tr>\n",
       "    <tr>\n",
       "      <th>4</th>\n",
       "      <td>Jennifer Sucevic</td>\n",
       "      <td>L’Idole du campus: Romance sportive entre hain...</td>\n",
       "      <td>5</td>\n",
       "      <td>Format Kindle</td>\n",
       "      <td>4,99</td>\n",
       "    </tr>\n",
       "  </tbody>\n",
       "</table>\n",
       "</div>"
      ],
      "text/plain": [
       "             Auteur                                              titre rang  \\\n",
       "0      Lisa Kleypas                         Les Hathaway (Tomes 1 & 2)    1   \n",
       "1   Guillaume Musso                                        Et Après...    2   \n",
       "2  Mélissa Da Costa                               Tout le bleu du ciel    3   \n",
       "3      Maud Ankaoua              Kilomètre zéro : Le chemin du bonheur    4   \n",
       "4  Jennifer Sucevic  L’Idole du campus: Romance sportive entre hain...    5   \n",
       "\n",
       "          format price  \n",
       "0  Format Kindle  3,49  \n",
       "1  Format Kindle  7,99  \n",
       "2          Poche  5,59  \n",
       "3          Poche  3,91  \n",
       "4  Format Kindle  4,99  "
      ]
     },
     "execution_count": 10,
     "metadata": {},
     "output_type": "execute_result"
    }
   ],
   "source": [
    "df = pd.read_csv('books.csv')\n",
    "\n",
    "df.head()"
   ]
  },
  {
   "cell_type": "code",
   "execution_count": 11,
   "metadata": {},
   "outputs": [
    {
     "data": {
      "text/plain": [
       "(98, 5)"
      ]
     },
     "execution_count": 11,
     "metadata": {},
     "output_type": "execute_result"
    }
   ],
   "source": [
    "df.shape"
   ]
  }
 ],
 "metadata": {
  "kernelspec": {
   "display_name": "Python 3",
   "language": "python",
   "name": "python3"
  },
  "language_info": {
   "codemirror_mode": {
    "name": "ipython",
    "version": 3
   },
   "file_extension": ".py",
   "mimetype": "text/x-python",
   "name": "python",
   "nbconvert_exporter": "python",
   "pygments_lexer": "ipython3",
   "version": "3.9.12"
  },
  "orig_nbformat": 4
 },
 "nbformat": 4,
 "nbformat_minor": 2
}
